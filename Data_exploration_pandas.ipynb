{
 "cells": [
  {
   "cell_type": "markdown",
   "metadata": {},
   "source": [
    "# __Data Exploration with Pandas__"
   ]
  },
  {
   "cell_type": "markdown",
   "metadata": {},
   "source": [
    "### [Data Grouping and aggregation.](#Data_grouping_and_aggregation)\n",
    "* Introduction to Data Grouping\n",
    "* Groupby Objects\n",
    "* Introduction to Data Aggregation\n",
    "* mean(), sum(), min(), max(), count()\n",
    "* Groupby.agg()\n",
    "* Pivot_table()\n",
    "\n",
    "### [merging datasets.](#Basic_Operations_in_Python)\n",
    "* Concat()\n",
    "* Merge()\n",
    "\n",
    "### [Data transformation](#Basic_Operations_in_Python)\n",
    "* series.map()\n",
    "* series.apply()\n",
    "* df.applymap()\n",
    "---"
   ]
  },
  {
   "cell_type": "markdown",
   "metadata": {},
   "source": [
    "<a id='Data_grouping_and_aggregation'></a>\n",
    "\n",
    "### *Data_grouping_and_aggregation*\n",
    "\n",
    "DATA GROUPING\n",
    "\n",
    "INTRODUCTION \n",
    "\n",
    "The GroupBy object enables us split our dataFrame into groups. Calling only the Groupby object returns the pandas core dataframe. Nothing actually gets computed until a function is called on the GroupBy object.\n",
    "The groupby object makes our code faster, easier to read and more flexible.\n",
    "\n",
    "\n",
    "Let's practice."
   ]
  },
  {
   "cell_type": "code",
   "execution_count": 13,
   "metadata": {},
   "outputs": [
    {
     "name": "stdout",
     "output_type": "stream",
     "text": [
      "successful\n"
     ]
    }
   ],
   "source": [
    "#let's import the necessary libraries\n",
    "import pandas as pd\n",
    "import matplotlib as plt\n",
    "print(\"successful\")"
   ]
  },
  {
   "cell_type": "code",
   "execution_count": 14,
   "metadata": {},
   "outputs": [
    {
     "data": {
      "text/html": [
       "<div>\n",
       "<style scoped>\n",
       "    .dataframe tbody tr th:only-of-type {\n",
       "        vertical-align: middle;\n",
       "    }\n",
       "\n",
       "    .dataframe tbody tr th {\n",
       "        vertical-align: top;\n",
       "    }\n",
       "\n",
       "    .dataframe thead th {\n",
       "        text-align: right;\n",
       "    }\n",
       "</style>\n",
       "<table border=\"1\" class=\"dataframe\">\n",
       "  <thead>\n",
       "    <tr style=\"text-align: right;\">\n",
       "      <th></th>\n",
       "      <th>Name</th>\n",
       "      <th>Age</th>\n",
       "      <th>Gender</th>\n",
       "      <th>Blood Type</th>\n",
       "      <th>Medical Condition</th>\n",
       "      <th>Date of Admission</th>\n",
       "      <th>Doctor</th>\n",
       "      <th>Hospital</th>\n",
       "      <th>Insurance Provider</th>\n",
       "      <th>Billing Amount</th>\n",
       "      <th>Room Number</th>\n",
       "      <th>Admission Type</th>\n",
       "      <th>Discharge Date</th>\n",
       "      <th>Medication</th>\n",
       "      <th>Test Results</th>\n",
       "    </tr>\n",
       "  </thead>\n",
       "  <tbody>\n",
       "    <tr>\n",
       "      <th>0</th>\n",
       "      <td>Tiffany Ramirez</td>\n",
       "      <td>81</td>\n",
       "      <td>Female</td>\n",
       "      <td>O-</td>\n",
       "      <td>Diabetes</td>\n",
       "      <td>2022-11-17</td>\n",
       "      <td>Patrick Parker</td>\n",
       "      <td>Wallace-Hamilton</td>\n",
       "      <td>Medicare</td>\n",
       "      <td>37490.983364</td>\n",
       "      <td>146</td>\n",
       "      <td>Elective</td>\n",
       "      <td>2022-12-01</td>\n",
       "      <td>Aspirin</td>\n",
       "      <td>Inconclusive</td>\n",
       "    </tr>\n",
       "    <tr>\n",
       "      <th>1</th>\n",
       "      <td>Ruben Burns</td>\n",
       "      <td>35</td>\n",
       "      <td>Male</td>\n",
       "      <td>O+</td>\n",
       "      <td>Asthma</td>\n",
       "      <td>2023-06-01</td>\n",
       "      <td>Diane Jackson</td>\n",
       "      <td>Burke, Griffin and Cooper</td>\n",
       "      <td>UnitedHealthcare</td>\n",
       "      <td>47304.064845</td>\n",
       "      <td>404</td>\n",
       "      <td>Emergency</td>\n",
       "      <td>2023-06-15</td>\n",
       "      <td>Lipitor</td>\n",
       "      <td>Normal</td>\n",
       "    </tr>\n",
       "    <tr>\n",
       "      <th>2</th>\n",
       "      <td>Chad Byrd</td>\n",
       "      <td>61</td>\n",
       "      <td>Male</td>\n",
       "      <td>B-</td>\n",
       "      <td>Obesity</td>\n",
       "      <td>2019-01-09</td>\n",
       "      <td>Paul Baker</td>\n",
       "      <td>Walton LLC</td>\n",
       "      <td>Medicare</td>\n",
       "      <td>36874.896997</td>\n",
       "      <td>292</td>\n",
       "      <td>Emergency</td>\n",
       "      <td>2019-02-08</td>\n",
       "      <td>Lipitor</td>\n",
       "      <td>Normal</td>\n",
       "    </tr>\n",
       "    <tr>\n",
       "      <th>3</th>\n",
       "      <td>Antonio Frederick</td>\n",
       "      <td>49</td>\n",
       "      <td>Male</td>\n",
       "      <td>B-</td>\n",
       "      <td>Asthma</td>\n",
       "      <td>2020-05-02</td>\n",
       "      <td>Brian Chandler</td>\n",
       "      <td>Garcia Ltd</td>\n",
       "      <td>Medicare</td>\n",
       "      <td>23303.322092</td>\n",
       "      <td>480</td>\n",
       "      <td>Urgent</td>\n",
       "      <td>2020-05-03</td>\n",
       "      <td>Penicillin</td>\n",
       "      <td>Abnormal</td>\n",
       "    </tr>\n",
       "    <tr>\n",
       "      <th>4</th>\n",
       "      <td>Mrs. Brandy Flowers</td>\n",
       "      <td>51</td>\n",
       "      <td>Male</td>\n",
       "      <td>O-</td>\n",
       "      <td>Arthritis</td>\n",
       "      <td>2021-07-09</td>\n",
       "      <td>Dustin Griffin</td>\n",
       "      <td>Jones, Brown and Murray</td>\n",
       "      <td>UnitedHealthcare</td>\n",
       "      <td>18086.344184</td>\n",
       "      <td>477</td>\n",
       "      <td>Urgent</td>\n",
       "      <td>2021-08-02</td>\n",
       "      <td>Paracetamol</td>\n",
       "      <td>Normal</td>\n",
       "    </tr>\n",
       "  </tbody>\n",
       "</table>\n",
       "</div>"
      ],
      "text/plain": [
       "                  Name  Age  Gender Blood Type Medical Condition  \\\n",
       "0      Tiffany Ramirez   81  Female         O-          Diabetes   \n",
       "1          Ruben Burns   35    Male         O+            Asthma   \n",
       "2            Chad Byrd   61    Male         B-           Obesity   \n",
       "3    Antonio Frederick   49    Male         B-            Asthma   \n",
       "4  Mrs. Brandy Flowers   51    Male         O-         Arthritis   \n",
       "\n",
       "  Date of Admission          Doctor                   Hospital  \\\n",
       "0        2022-11-17  Patrick Parker           Wallace-Hamilton   \n",
       "1        2023-06-01   Diane Jackson  Burke, Griffin and Cooper   \n",
       "2        2019-01-09      Paul Baker                 Walton LLC   \n",
       "3        2020-05-02  Brian Chandler                 Garcia Ltd   \n",
       "4        2021-07-09  Dustin Griffin    Jones, Brown and Murray   \n",
       "\n",
       "  Insurance Provider  Billing Amount  Room Number Admission Type  \\\n",
       "0           Medicare    37490.983364          146       Elective   \n",
       "1   UnitedHealthcare    47304.064845          404      Emergency   \n",
       "2           Medicare    36874.896997          292      Emergency   \n",
       "3           Medicare    23303.322092          480         Urgent   \n",
       "4   UnitedHealthcare    18086.344184          477         Urgent   \n",
       "\n",
       "  Discharge Date   Medication  Test Results  \n",
       "0     2022-12-01      Aspirin  Inconclusive  \n",
       "1     2023-06-15      Lipitor        Normal  \n",
       "2     2019-02-08      Lipitor        Normal  \n",
       "3     2020-05-03   Penicillin      Abnormal  \n",
       "4     2021-08-02  Paracetamol        Normal  "
      ]
     },
     "execution_count": 14,
     "metadata": {},
     "output_type": "execute_result"
    }
   ],
   "source": [
    "#let's load the data\n",
    "path = \"C:/Users/chiso/OneDrive/Documents/health_dataset.xlsx\"\n",
    "df = pd.read_excel(path)  \n",
    "df.head() "
   ]
  },
  {
   "cell_type": "code",
   "execution_count": 15,
   "metadata": {},
   "outputs": [
    {
     "name": "stdout",
     "output_type": "stream",
     "text": [
      "<class 'pandas.core.frame.DataFrame'>\n",
      "RangeIndex: 10000 entries, 0 to 9999\n",
      "Data columns (total 15 columns):\n",
      " #   Column              Non-Null Count  Dtype         \n",
      "---  ------              --------------  -----         \n",
      " 0   Name                10000 non-null  object        \n",
      " 1   Age                 10000 non-null  int64         \n",
      " 2   Gender              10000 non-null  object        \n",
      " 3   Blood Type          10000 non-null  object        \n",
      " 4   Medical Condition   10000 non-null  object        \n",
      " 5   Date of Admission   10000 non-null  datetime64[ns]\n",
      " 6   Doctor              10000 non-null  object        \n",
      " 7   Hospital            10000 non-null  object        \n",
      " 8   Insurance Provider  10000 non-null  object        \n",
      " 9   Billing Amount      10000 non-null  float64       \n",
      " 10  Room Number         10000 non-null  int64         \n",
      " 11  Admission Type      10000 non-null  object        \n",
      " 12  Discharge Date      10000 non-null  datetime64[ns]\n",
      " 13  Medication          10000 non-null  object        \n",
      " 14  Test Results        10000 non-null  object        \n",
      "dtypes: datetime64[ns](2), float64(1), int64(2), object(10)\n",
      "memory usage: 1.1+ MB\n"
     ]
    }
   ],
   "source": [
    "df.info()"
   ]
  },
  {
   "cell_type": "code",
   "execution_count": 16,
   "metadata": {},
   "outputs": [
    {
     "data": {
      "text/html": [
       "<div>\n",
       "<style scoped>\n",
       "    .dataframe tbody tr th:only-of-type {\n",
       "        vertical-align: middle;\n",
       "    }\n",
       "\n",
       "    .dataframe tbody tr th {\n",
       "        vertical-align: top;\n",
       "    }\n",
       "\n",
       "    .dataframe thead th {\n",
       "        text-align: right;\n",
       "    }\n",
       "</style>\n",
       "<table border=\"1\" class=\"dataframe\">\n",
       "  <thead>\n",
       "    <tr style=\"text-align: right;\">\n",
       "      <th></th>\n",
       "      <th>Age</th>\n",
       "      <th>Gender</th>\n",
       "      <th>Blood Type</th>\n",
       "      <th>Medical Condition</th>\n",
       "      <th>Date of Admission</th>\n",
       "      <th>Billing Amount</th>\n",
       "      <th>Admission Type</th>\n",
       "      <th>Discharge Date</th>\n",
       "      <th>Test Results</th>\n",
       "    </tr>\n",
       "  </thead>\n",
       "  <tbody>\n",
       "    <tr>\n",
       "      <th>0</th>\n",
       "      <td>81</td>\n",
       "      <td>Female</td>\n",
       "      <td>O-</td>\n",
       "      <td>Diabetes</td>\n",
       "      <td>2022-11-17</td>\n",
       "      <td>37490.983364</td>\n",
       "      <td>Elective</td>\n",
       "      <td>2022-12-01</td>\n",
       "      <td>Inconclusive</td>\n",
       "    </tr>\n",
       "    <tr>\n",
       "      <th>1</th>\n",
       "      <td>35</td>\n",
       "      <td>Male</td>\n",
       "      <td>O+</td>\n",
       "      <td>Asthma</td>\n",
       "      <td>2023-06-01</td>\n",
       "      <td>47304.064845</td>\n",
       "      <td>Emergency</td>\n",
       "      <td>2023-06-15</td>\n",
       "      <td>Normal</td>\n",
       "    </tr>\n",
       "    <tr>\n",
       "      <th>2</th>\n",
       "      <td>61</td>\n",
       "      <td>Male</td>\n",
       "      <td>B-</td>\n",
       "      <td>Obesity</td>\n",
       "      <td>2019-01-09</td>\n",
       "      <td>36874.896997</td>\n",
       "      <td>Emergency</td>\n",
       "      <td>2019-02-08</td>\n",
       "      <td>Normal</td>\n",
       "    </tr>\n",
       "    <tr>\n",
       "      <th>3</th>\n",
       "      <td>49</td>\n",
       "      <td>Male</td>\n",
       "      <td>B-</td>\n",
       "      <td>Asthma</td>\n",
       "      <td>2020-05-02</td>\n",
       "      <td>23303.322092</td>\n",
       "      <td>Urgent</td>\n",
       "      <td>2020-05-03</td>\n",
       "      <td>Abnormal</td>\n",
       "    </tr>\n",
       "    <tr>\n",
       "      <th>4</th>\n",
       "      <td>51</td>\n",
       "      <td>Male</td>\n",
       "      <td>O-</td>\n",
       "      <td>Arthritis</td>\n",
       "      <td>2021-07-09</td>\n",
       "      <td>18086.344184</td>\n",
       "      <td>Urgent</td>\n",
       "      <td>2021-08-02</td>\n",
       "      <td>Normal</td>\n",
       "    </tr>\n",
       "  </tbody>\n",
       "</table>\n",
       "</div>"
      ],
      "text/plain": [
       "   Age  Gender Blood Type Medical Condition Date of Admission  Billing Amount  \\\n",
       "0   81  Female         O-          Diabetes        2022-11-17    37490.983364   \n",
       "1   35    Male         O+            Asthma        2023-06-01    47304.064845   \n",
       "2   61    Male         B-           Obesity        2019-01-09    36874.896997   \n",
       "3   49    Male         B-            Asthma        2020-05-02    23303.322092   \n",
       "4   51    Male         O-         Arthritis        2021-07-09    18086.344184   \n",
       "\n",
       "  Admission Type Discharge Date  Test Results  \n",
       "0       Elective     2022-12-01  Inconclusive  \n",
       "1      Emergency     2023-06-15        Normal  \n",
       "2      Emergency     2019-02-08        Normal  \n",
       "3         Urgent     2020-05-03      Abnormal  \n",
       "4         Urgent     2021-08-02        Normal  "
      ]
     },
     "execution_count": 16,
     "metadata": {},
     "output_type": "execute_result"
    }
   ],
   "source": [
    "#let's drop the columns that we won't be needing\n",
    "df.drop(columns = [\"Name\", \"Doctor\", \"Hospital\", \"Insurance Provider\", \"Room Number\", \"Medication\"], inplace = True)\n",
    "df.head()"
   ]
  },
  {
   "cell_type": "code",
   "execution_count": 17,
   "metadata": {},
   "outputs": [
    {
     "data": {
      "text/plain": [
       "Age                  0\n",
       "Gender               0\n",
       "Blood Type           0\n",
       "Medical Condition    0\n",
       "Date of Admission    0\n",
       "Billing Amount       0\n",
       "Admission Type       0\n",
       "Discharge Date       0\n",
       "Test Results         0\n",
       "dtype: int64"
      ]
     },
     "execution_count": 17,
     "metadata": {},
     "output_type": "execute_result"
    }
   ],
   "source": [
    "#let's check for missing values\n",
    "df.isnull().sum()"
   ]
  },
  {
   "cell_type": "markdown",
   "metadata": {},
   "source": [
    "Great! there are no missing values, now let's check for duplicates"
   ]
  },
  {
   "cell_type": "code",
   "execution_count": 18,
   "metadata": {},
   "outputs": [
    {
     "data": {
      "text/plain": [
       "0"
      ]
     },
     "execution_count": 18,
     "metadata": {},
     "output_type": "execute_result"
    }
   ],
   "source": [
    "#checking for duplicates\n",
    "df.duplicated().sum()"
   ]
  },
  {
   "cell_type": "markdown",
   "metadata": {},
   "source": [
    "There are no duplicates, now let's delve into Data grouping and aggregation."
   ]
  },
  {
   "cell_type": "code",
   "execution_count": 38,
   "metadata": {},
   "outputs": [
    {
     "name": "stdout",
     "output_type": "stream",
     "text": [
      "['O-', 'O+', 'B-', 'AB+', 'A+', 'AB-', 'A-', 'B+']\n"
     ]
    },
    {
     "data": {
      "text/plain": [
       "Blood Type\n",
       "AB-    1275\n",
       "AB+    1258\n",
       "B-     1252\n",
       "O+     1248\n",
       "O-     1244\n",
       "B+     1244\n",
       "A+     1241\n",
       "A-     1238\n",
       "Name: count, dtype: int64"
      ]
     },
     "execution_count": 38,
     "metadata": {},
     "output_type": "execute_result"
    }
   ],
   "source": [
    "#let's check for unique blood type  in the blood type column\n",
    "blood_types = list(df[\"Blood Type\"].unique())\n",
    "print(blood_types)\n",
    "\n",
    "#checking the count of each blood type\n",
    "blood_typecount = df[\"Blood Type\"].value_counts()\n",
    "blood_typecount\n"
   ]
  },
  {
   "cell_type": "markdown",
   "metadata": {},
   "source": [
    "We have been able to see the unique blood types and each of their value counts.\n",
    "\n",
    "We can also do this with one line of code using the groupby object and .size()\n",
    "\n",
    "\n",
    "*Let's do this*"
   ]
  },
  {
   "cell_type": "code",
   "execution_count": 40,
   "metadata": {},
   "outputs": [
    {
     "data": {
      "text/plain": [
       "Blood Type\n",
       "A+     1241\n",
       "A-     1238\n",
       "AB+    1258\n",
       "AB-    1275\n",
       "B+     1244\n",
       "B-     1252\n",
       "O+     1248\n",
       "O-     1244\n",
       "dtype: int64"
      ]
     },
     "execution_count": 40,
     "metadata": {},
     "output_type": "execute_result"
    }
   ],
   "source": [
    "#grouping the data by blood group and checking for the count of each blood type\n",
    "\n",
    "patients_bloodtype = df.groupby(\"Blood Type\").size()\n",
    "patients_bloodtype"
   ]
  },
  {
   "cell_type": "markdown",
   "metadata": {},
   "source": [
    "using groupby object in grouping the data does not return anything when no operation is performed."
   ]
  },
  {
   "cell_type": "code",
   "execution_count": 42,
   "metadata": {},
   "outputs": [
    {
     "data": {
      "text/plain": [
       "<pandas.core.groupby.generic.DataFrameGroupBy object at 0x00000268921BB800>"
      ]
     },
     "execution_count": 42,
     "metadata": {},
     "output_type": "execute_result"
    }
   ],
   "source": [
    "grouped_df = df.groupby(\"Blood Type\")\n",
    "grouped_df"
   ]
  },
  {
   "cell_type": "markdown",
   "metadata": {},
   "source": [
    "We can see that the groupby operation didn't return anything. This is because we just grouped but didn't perform any operation unlike the previous cell"
   ]
  },
  {
   "cell_type": "markdown",
   "metadata": {},
   "source": [
    "We can also select specific columns in our dataframe after whith the groupby object"
   ]
  },
  {
   "cell_type": "code",
   "execution_count": 47,
   "metadata": {},
   "outputs": [
    {
     "name": "stdout",
     "output_type": "stream",
     "text": [
      "Admission Type\n",
      "Elective     8.394132e+07\n",
      "Emergency    8.319356e+07\n",
      "Urgent       8.803319e+07\n",
      "Name: Billing Amount, dtype: float64\n"
     ]
    },
    {
     "data": {
      "text/plain": [
       "Admission Type\n",
       "Elective     25891.832668\n",
       "Emergency    24708.511933\n",
       "Urgent       25960.833557\n",
       "Name: Billing Amount, dtype: float64"
      ]
     },
     "execution_count": 47,
     "metadata": {},
     "output_type": "execute_result"
    }
   ],
   "source": [
    "#grouping the data by admission type and checking for the sum of the billing amount for each admission type\n",
    "admission_bill_s = df.groupby(\"Admission Type\")[\"Billing Amount\"].sum()\n",
    "print(admission_bill_s)\n",
    "\n",
    "#grouping the data by admission type and checking for the mean of the billing amount for each admission type\n",
    "admission_bill_mean = df.groupby(\"Admission Type\")[\"Billing Amount\"].mean()\n",
    "admission_bill_mean"
   ]
  },
  {
   "cell_type": "markdown",
   "metadata": {},
   "source": [
    "DATA AGGREGATION\n",
    "\n",
    "INTRODUCTION\n",
    "Data Aggregation helps us perform one or more aggregate at once on our column. It also takes in functions as parameters.\n",
    "\n",
    "Since we have seen how to use the groupby object, we will now combine it with the .agg() function for data grouping and aggregation.\n",
    "\n",
    "*Let's do this*\n"
   ]
  },
  {
   "cell_type": "code",
   "execution_count": 50,
   "metadata": {},
   "outputs": [
    {
     "data": {
      "text/html": [
       "<div>\n",
       "<style scoped>\n",
       "    .dataframe tbody tr th:only-of-type {\n",
       "        vertical-align: middle;\n",
       "    }\n",
       "\n",
       "    .dataframe tbody tr th {\n",
       "        vertical-align: top;\n",
       "    }\n",
       "\n",
       "    .dataframe thead th {\n",
       "        text-align: right;\n",
       "    }\n",
       "</style>\n",
       "<table border=\"1\" class=\"dataframe\">\n",
       "  <thead>\n",
       "    <tr style=\"text-align: right;\">\n",
       "      <th></th>\n",
       "      <th>sum</th>\n",
       "      <th>mean</th>\n",
       "    </tr>\n",
       "    <tr>\n",
       "      <th>Admission Type</th>\n",
       "      <th></th>\n",
       "      <th></th>\n",
       "    </tr>\n",
       "  </thead>\n",
       "  <tbody>\n",
       "    <tr>\n",
       "      <th>Elective</th>\n",
       "      <td>8.394132e+07</td>\n",
       "      <td>25891.832668</td>\n",
       "    </tr>\n",
       "    <tr>\n",
       "      <th>Emergency</th>\n",
       "      <td>8.319356e+07</td>\n",
       "      <td>24708.511933</td>\n",
       "    </tr>\n",
       "    <tr>\n",
       "      <th>Urgent</th>\n",
       "      <td>8.803319e+07</td>\n",
       "      <td>25960.833557</td>\n",
       "    </tr>\n",
       "  </tbody>\n",
       "</table>\n",
       "</div>"
      ],
      "text/plain": [
       "                         sum          mean\n",
       "Admission Type                            \n",
       "Elective        8.394132e+07  25891.832668\n",
       "Emergency       8.319356e+07  24708.511933\n",
       "Urgent          8.803319e+07  25960.833557"
      ]
     },
     "execution_count": 50,
     "metadata": {},
     "output_type": "execute_result"
    }
   ],
   "source": [
    "#using the .agg() method to find the sum and mean of the billing amount for each admission type\n",
    "mean_and_sum_admissbills = df.groupby(\"Admission Type\")[\"Billing Amount\"].agg([\"sum\", \"mean\"])\n",
    "mean_and_sum_admissbills"
   ]
  },
  {
   "cell_type": "markdown",
   "metadata": {},
   "source": [
    "OR"
   ]
  },
  {
   "cell_type": "code",
   "execution_count": 53,
   "metadata": {},
   "outputs": [
    {
     "data": {
      "text/html": [
       "<div>\n",
       "<style scoped>\n",
       "    .dataframe tbody tr th:only-of-type {\n",
       "        vertical-align: middle;\n",
       "    }\n",
       "\n",
       "    .dataframe tbody tr th {\n",
       "        vertical-align: top;\n",
       "    }\n",
       "\n",
       "    .dataframe thead th {\n",
       "        text-align: right;\n",
       "    }\n",
       "</style>\n",
       "<table border=\"1\" class=\"dataframe\">\n",
       "  <thead>\n",
       "    <tr style=\"text-align: right;\">\n",
       "      <th></th>\n",
       "      <th>sum</th>\n",
       "      <th>mean</th>\n",
       "    </tr>\n",
       "    <tr>\n",
       "      <th>Admission Type</th>\n",
       "      <th></th>\n",
       "      <th></th>\n",
       "    </tr>\n",
       "  </thead>\n",
       "  <tbody>\n",
       "    <tr>\n",
       "      <th>Elective</th>\n",
       "      <td>8.394132e+07</td>\n",
       "      <td>25891.832668</td>\n",
       "    </tr>\n",
       "    <tr>\n",
       "      <th>Emergency</th>\n",
       "      <td>8.319356e+07</td>\n",
       "      <td>24708.511933</td>\n",
       "    </tr>\n",
       "    <tr>\n",
       "      <th>Urgent</th>\n",
       "      <td>8.803319e+07</td>\n",
       "      <td>25960.833557</td>\n",
       "    </tr>\n",
       "  </tbody>\n",
       "</table>\n",
       "</div>"
      ],
      "text/plain": [
       "                         sum          mean\n",
       "Admission Type                            \n",
       "Elective        8.394132e+07  25891.832668\n",
       "Emergency       8.319356e+07  24708.511933\n",
       "Urgent          8.803319e+07  25960.833557"
      ]
     },
     "execution_count": 53,
     "metadata": {},
     "output_type": "execute_result"
    }
   ],
   "source": [
    "admissbills = df.groupby(\"Admission Type\")[\"Billing Amount\"]\n",
    "mean_and_sum_admissbills = admissbills.agg([\"sum\", \"mean\"])\n",
    "mean_and_sum_admissbills"
   ]
  },
  {
   "cell_type": "markdown",
   "metadata": {},
   "source": [
    "The .agg() method also takes in functions."
   ]
  },
  {
   "cell_type": "code",
   "execution_count": null,
   "metadata": {},
   "outputs": [],
   "source": []
  },
  {
   "cell_type": "code",
   "execution_count": 37,
   "metadata": {},
   "outputs": [
    {
     "data": {
      "text/plain": [
       "Blood Type  Age  Gender  Medical Condition  Date of Admission  Billing Amount  Admission Type  Discharge Date  Test Results\n",
       "A+          18   Female  Arthritis          2019-07-01         8647.898159     Urgent          2019-07-16      Abnormal        1\n",
       "                                            2019-07-30         7237.040595     Emergency       2019-08-28      Normal          1\n",
       "            41   Male    Arthritis          2019-05-16         49267.525957    Emergency       2019-06-03      Abnormal        1\n",
       "                 Female  Asthma             2021-11-23         13420.958480    Elective        2021-11-26      Inconclusive    1\n",
       "                         Cancer             2019-01-01         11434.768359    Urgent          2019-01-15      Normal          1\n",
       "                                                                                                                              ..\n",
       "O-          62   Male    Obesity            2023-03-07         43176.171304    Urgent          2023-03-23      Inconclusive    1\n",
       "            63   Female  Asthma             2019-10-21         25262.709104    Emergency       2019-11-12      Inconclusive    1\n",
       "                                            2020-05-15         22423.161183    Urgent          2020-05-18      Abnormal        1\n",
       "                         Hypertension       2022-06-07         16259.799098    Urgent          2022-07-06      Normal          1\n",
       "            85   Male    Obesity            2020-03-11         1889.902251     Elective        2020-03-27      Inconclusive    1\n",
       "Name: count, Length: 10000, dtype: int64"
      ]
     },
     "execution_count": 37,
     "metadata": {},
     "output_type": "execute_result"
    }
   ],
   "source": [
    "blood_types = df.groupby(\"Blood Type\").count()\n",
    "blood_types"
   ]
  },
  {
   "cell_type": "code",
   "execution_count": 34,
   "metadata": {},
   "outputs": [
    {
     "data": {
      "text/plain": [
       "<pandas.core.groupby.generic.SeriesGroupBy object at 0x0000026895E5AAB0>"
      ]
     },
     "execution_count": 34,
     "metadata": {},
     "output_type": "execute_result"
    }
   ],
   "source": [
    "blood_types = df.groupby(\"Blood Type\")[\"Gender\"]\n",
    "blood_types"
   ]
  }
 ],
 "metadata": {
  "kernelspec": {
   "display_name": "Python 3",
   "language": "python",
   "name": "python3"
  },
  "language_info": {
   "codemirror_mode": {
    "name": "ipython",
    "version": 3
   },
   "file_extension": ".py",
   "mimetype": "text/x-python",
   "name": "python",
   "nbconvert_exporter": "python",
   "pygments_lexer": "ipython3",
   "version": "3.12.0"
  }
 },
 "nbformat": 4,
 "nbformat_minor": 2
}
