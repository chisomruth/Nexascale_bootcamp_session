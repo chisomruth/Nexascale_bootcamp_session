{
 "cells": [
  {
   "cell_type": "markdown",
   "metadata": {},
   "source": [
    "# __Introduction to Python Programming__"
   ]
  },
  {
   "cell_type": "markdown",
   "metadata": {},
   "source": [
    "### [Introduction](#Introduction)\n",
    ">* Why python?\n",
    ">* Uses of python\n",
    "\n",
    "\n",
    "### [Python variables and data types](#Python_variables_and_data_types)\n",
    ">* Integers \n",
    ">* Floats\n",
    ">* Strings\n",
    ">* Booleans\n",
    ">* `print` statement\n",
    "\n",
    "\n",
    "### [Basic Operations in Python](#Basic_Operations_in_Python)\n",
    ">* Arithmetic operation\n",
    ">* String Manipulation\n",
    ">* Comparison operators\n",
    ">* commenting\n",
    "---"
   ]
  },
  {
   "cell_type": "markdown",
   "metadata": {},
   "source": [
    "<a id='Introduction'></a>\n",
    "\n",
    "* ## Introduction\n",
    "Welcome to introduction to \"Python programming\". This course is completely beginner friendly. In this course, we will be discussing and exploring the fundamentals of python programming.  \n",
    "NB: Knowledge or foundation in mathematics and an enthusiasm to learn is a prerequisite to this course. \n",
    "\n",
    "##### *Why python?*\n",
    "Python is one of the most versatile and popular programming language with so many use cases. It is a high-level, general-purpose programming language and can be used for:\n",
    "* web development: Creating websites and web applications.\n",
    "* machine learning:  Implementing algorithms and models\n",
    "* web scrapping: Extracting data from websites.\n",
    "* software development: Building software and applications.\n",
    "* data analysis, etc.\n",
    "\n",
    " In this lesson, we'll cover the fundamental building blocks of Python, including variables, data types, String manipulations, e.t.c. As you progress, you'll gain the essential skills required to write Python programs and delve into practical examples that emphasize its significance in data science.\n",
    "\n",
    "\n",
    "##### Lets start with Variables and data types.\n",
    "---"
   ]
  },
  {
   "cell_type": "markdown",
   "metadata": {},
   "source": [
    "<a id='Python_variables_and_data_types'></a>\n",
    "* ## Python_variables_and_data_types\n",
    "\n",
    "\n",
    "\n",
    "\n",
    "\n",
    "\n",
    "\n",
    "\n",
    "\n",
    "\n",
    "\n",
    "\n"
   ]
  },
  {
   "cell_type": "markdown",
   "metadata": {},
   "source": [
    "#### Creating and naming Variables in Python:\n",
    "Variables in python are like containers used to store information. \n",
    "naming conventions  in python includes:\n",
    "* Snakecase: Words are delimited by an underscore. (`variable_one`, `variable_two`).\n",
    "* Camelcase: Words are delimited by capital letters, except the initial word. (`variableOne`, `variableTwo`).\n",
    "\n",
    "\n",
    "Creating a variable in python is straightfoward. It entails using \"`=`\" called the assignment operator to assign a value. \n",
    "\n",
    "There are several rules to follow when naming variables in python:\n",
    "\n",
    "- They cannot start with a number.\n",
    "- They must start with a letter or an underscore.\n",
    "- They can contain letters (both uppercase and lowercase), digits, and underscores.\n",
    "- Variable names are case-sensitive (\"`aVar`\" and \"`avar`\" are different).\n",
    "\n",
    "\n",
    "#### Data Types\n",
    "\n",
    "There are various data types in python. Some common data type includes:\n",
    "* Integers (int): Whole numbers, e.g., `-7`, `6`, `100`.\n",
    "* Floats (float): Numbers with decimal points, e.g., `7.14`, `5.718`.\n",
    "* Strings (str): strings are sequences of characters, and each character in a string has an index associated with it. The first character has an index of 0, the second has an index of 1. They are defined using quotation marks, e.g., \"`Hello, World!`\", \"`rice`\".\n",
    "* Booleans (bool): Represents `True` or `False`.\n",
    "* Lists: Ordered collections of items, e.g., `[1, 2, 3, 4]`.\n",
    "* Tuples: Similar to lists but immutable (cannot be changed), e.g., `(1, 2, 3)`.\n",
    "* Dictionaries: Key-value pairs, e.g., `{'name':\"temi\", 'age': 25}`.\n",
    "\n",
    "For the purpose of this lesson, we will be focusing majorly on Integers, Floats, Strings, and Booleans.\n",
    "Python allows you to check the type of a variable using the `type()` function.\n",
    "\n",
    "We see some examples below"
   ]
  },
  {
   "cell_type": "code",
   "execution_count": 59,
   "metadata": {},
   "outputs": [
    {
     "name": "stdout",
     "output_type": "stream",
     "text": [
      "nexascale\n",
      "3\n"
     ]
    }
   ],
   "source": [
    "#variable_one - snake case\n",
    "#variableOne - camel case\n",
    "# 2_you = \"nexascale\" -wrong\n",
    "#my_house = 2\n",
    "#myHouse_2 =\n",
    "#my_house_2 =\n",
    "\n",
    "my_var1 = 3\n",
    "my_Var2 = 4\n",
    "classes = \"nexascale\"\n",
    "print(classes)\n",
    "print(my_var1)\n",
    "\n"
   ]
  },
  {
   "cell_type": "markdown",
   "metadata": {},
   "source": [
    "Understanding data types is important as it helps us understand  the kind of operations that can be performed on the variables\n",
    "\n",
    "\n",
    "#### Print Statement\n",
    "In python, we can easily ask a computer to print an output for us by using `print()` and enclosing our input or message inside the parentheses. \n",
    "\n",
    "Let's see examples below\n"
   ]
  },
  {
   "cell_type": "code",
   "execution_count": null,
   "metadata": {},
   "outputs": [],
   "source": []
  },
  {
   "cell_type": "markdown",
   "metadata": {},
   "source": [
    "---"
   ]
  },
  {
   "cell_type": "markdown",
   "metadata": {},
   "source": [
    "<a id='Basic_Operations_in_Python'></a>\n",
    "* ### Basic_Operations_in_Python"
   ]
  },
  {
   "cell_type": "markdown",
   "metadata": {},
   "source": [
    "#### Arithmetic Operations\n",
    "Python supports various arithmetic operations like \n",
    "* addition (`+`) \n",
    "* subtraction (`-`) \n",
    "* multiplication (`*`)\n",
    "* division (`/`) \n",
    "* modulo or remainder (`%`)\n",
    "* Exponentiation (`**`), etc. \n",
    "For instance:"
   ]
  },
  {
   "cell_type": "code",
   "execution_count": 60,
   "metadata": {},
   "outputs": [
    {
     "name": "stdout",
     "output_type": "stream",
     "text": [
      "9\n",
      "9\n",
      "0.5\n",
      "1\n",
      "4\n"
     ]
    }
   ],
   "source": [
    "my_var1 = 3\n",
    "my_var2 = 6\n",
    "print(my_var1 + my_var2)\n",
    "print(3+6)\n",
    "new_var = my_var1/my_var2\n",
    "print(new_var)\n",
    "print(7%3)\n",
    "print(2**2)"
   ]
  },
  {
   "cell_type": "markdown",
   "metadata": {},
   "source": [
    "#### String Manipulation\n",
    "\n",
    "Strings in Python can be manipulated in numerous ways, including:\n",
    "* concatenation : combining two or more strings into a single string using the plus (`+`) sign\n",
    "* slicing: This is the technique of extracting a specific portion of a string called \"substring\" by specifying a range. This is done by using indices to identify the starting and ending points of the substring within the original string\n",
    "* formatting:  etc. \n",
    "\n",
    "\n",
    "let's see examples"
   ]
  },
  {
   "cell_type": "code",
   "execution_count": 61,
   "metadata": {},
   "outputs": [
    {
     "name": "stdout",
     "output_type": "stream",
     "text": [
      "chike ogbonna\n",
      "my name is chike ogbonna\n",
      "my name is chike ogbonna\n"
     ]
    }
   ],
   "source": [
    "#concatenation\n",
    "my_var1 = \"chike\"\n",
    "my_var2 = \"ogbonna\"\n",
    "new_name = my_var1 + \" \" + my_var2\n",
    "print(new_name)\n",
    "new_name[:5]\n",
    "new_name[:]\n",
    "new_name[-1]\n",
    "new_name[-3: -2]\n",
    "\n",
    "\n",
    "# .format()\n",
    "# f\n",
    "print(\"my name is {}\".format(new_name))\n",
    "print(f\"my name is {new_name}\")\n"
   ]
  },
  {
   "cell_type": "markdown",
   "metadata": {},
   "source": [
    "#### Comparison Operators\n",
    "\n",
    "Comparison Operators are used to compare values.\n",
    "\n",
    "Python has various comparison operators including:\n",
    "\n",
    "* Equal to (`==`)\n",
    "* Not equal to (`!=`)\n",
    "* Greater than (`>`)\n",
    "* Less than (`<`)\n",
    "* Greater than or equal to (`>=`)\n",
    "* Less than or equal to (`<=`)\n"
   ]
  },
  {
   "cell_type": "code",
   "execution_count": 70,
   "metadata": {},
   "outputs": [
    {
     "name": "stdout",
     "output_type": "stream",
     "text": [
      "False\n",
      "9\n"
     ]
    },
    {
     "data": {
      "text/plain": [
       "True"
      ]
     },
     "execution_count": 70,
     "metadata": {},
     "output_type": "execute_result"
    }
   ],
   "source": [
    "num1 = 3.2\n",
    "num2 = 3\n",
    "print(my_var1 == my_var2)\n",
    "num1 != num2\n",
    "num2 = 9\n",
    "print(num2)\n",
    "num1 < num2"
   ]
  },
  {
   "cell_type": "markdown",
   "metadata": {},
   "source": [
    "#### Type Conversion\n",
    "\n",
    "Sometimes, it's necessary to convert variables from one data type to another as this is vital in performing certain operations in python.\n",
    "Python has built-in functions for type conversion like:\n",
    "\n",
    "int(), float(), and str(). They are used to convert variables to integers, floats, and strings, respectively.\n",
    "\n",
    "#### Commenting\n",
    "\n",
    "Comments are useful in explaining code logic and functionality. In Python, comments are denoted using the hash symbol `#`.\n",
    "We have also have inline comments of which we shall see below"
   ]
  },
  {
   "cell_type": "code",
   "execution_count": 76,
   "metadata": {},
   "outputs": [
    {
     "name": "stdout",
     "output_type": "stream",
     "text": [
      "<class 'float'>\n",
      "<class 'str'>\n"
     ]
    }
   ],
   "source": [
    "\"\"\" This is and example.\n",
    "This example was strictly made for this class\"\"\"\n",
    "print(type(num1))\n",
    "string2 = str(num2)\n",
    "# this is a type conversion example\n",
    "print(type(string2))"
   ]
  },
  {
   "cell_type": "markdown",
   "metadata": {},
   "source": [
    "*THE END*"
   ]
  }
 ],
 "metadata": {
  "kernelspec": {
   "display_name": "Python 3",
   "language": "python",
   "name": "python3"
  },
  "language_info": {
   "codemirror_mode": {
    "name": "ipython",
    "version": 3
   },
   "file_extension": ".py",
   "mimetype": "text/x-python",
   "name": "python",
   "nbconvert_exporter": "python",
   "pygments_lexer": "ipython3",
   "version": "3.11.4"
  }
 },
 "nbformat": 4,
 "nbformat_minor": 2
}
